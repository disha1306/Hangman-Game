{
  "nbformat": 4,
  "nbformat_minor": 0,
  "metadata": {
    "colab": {
      "name": "Hangman Game",
      "provenance": [],
      "collapsed_sections": [],
      "authorship_tag": "ABX9TyOXvgMMME92Z/CL7ANRwQta",
      "include_colab_link": true
    },
    "kernelspec": {
      "name": "python3",
      "display_name": "Python 3"
    },
    "language_info": {
      "name": "python"
    }
  },
  "cells": [
    {
      "cell_type": "markdown",
      "metadata": {
        "id": "view-in-github",
        "colab_type": "text"
      },
      "source": [
        "<a href=\"https://colab.research.google.com/github/disha1306/Hangman-Game/blob/main/Hangman_Game.ipynb\" target=\"_parent\"><img src=\"https://colab.research.google.com/assets/colab-badge.svg\" alt=\"Open In Colab\"/></a>"
      ]
    },
    {
      "cell_type": "code",
      "execution_count": null,
      "metadata": {
        "colab": {
          "base_uri": "https://localhost:8080/"
        },
        "id": "CmOAbKqgsFv2",
        "outputId": "568e0169-57a3-4ada-aa26-f6b63ccb6970"
      },
      "outputs": [
        {
          "output_type": "stream",
          "name": "stdout",
          "text": [
            "Guess the word! HINT: word is a name of a fruit\n",
            "_ _ _ _ _ _ _ \n",
            "\n",
            "Enter only a letter!\n",
            "\n",
            "Enter only a letter!\n",
            "\n",
            "Enter only a letter!\n",
            "\n"
          ]
        }
      ],
      "source": [
        "# Python Program to illustrate \n",
        "# Hangman Game\n",
        "import random\n",
        "from collections import Counter\n",
        "  \n",
        "someWords = '''apple banana mango strawberry \n",
        "orange grape pineapple apricot lemon coconut watermelon\n",
        "cherry papaya berry peach lychee muskmelon'''\n",
        "  \n",
        "someWords = someWords.split(' ')\n",
        "# randomly choose a secret word from our \"someWords\" LIST.\n",
        "word = random.choice(someWords)         \n",
        "  \n",
        "if __name__ == '__main__':\n",
        "    print('Guess the word! HINT: word is a name of a fruit')\n",
        "      \n",
        "    for i in word:\n",
        "         # For printing the empty spaces for letters of the word\n",
        "        print('_', end = ' ')        \n",
        "    print()\n",
        "  \n",
        "    playing = True\n",
        "     # list for storing the letters guessed by the player\n",
        "    letterGuessed = ''                \n",
        "    chances = len(word) + 2\n",
        "    correct = 0\n",
        "    flag = 0\n",
        "    try:\n",
        "        while (chances != 0) and flag == 0: #flag is updated when the word is correctly guessed \n",
        "            print()\n",
        "            chances -= 1\n",
        "  \n",
        "            try:\n",
        "                guess = str(input('Enter a letter to guess: '))\n",
        "            except:\n",
        "                print('Enter only a letter!')\n",
        "                continue\n",
        "  \n",
        "            # Validation of the guess\n",
        "            if not guess.isalpha():\n",
        "                print('Enter only a LETTER')\n",
        "                continue\n",
        "            elif len(guess) > 1:\n",
        "                print('Enter only a SINGLE letter')\n",
        "                continue\n",
        "            elif guess in letterGuessed:\n",
        "                print('You have already guessed that letter')\n",
        "                continue\n",
        "  \n",
        "  \n",
        "            # If letter is guessed correctly\n",
        "            if guess in word:\n",
        "                k = word.count(guess) #k stores the number of times the guessed letter occurs in the word\n",
        "                for _ in range(k):    \n",
        "                    letterGuessed += guess # The guess letter is added as many times as it occurs\n",
        "  \n",
        "            # Print the word\n",
        "            for char in word:\n",
        "                if char in letterGuessed and (Counter(letterGuessed) != Counter(word)):\n",
        "                    print(char, end = ' ')\n",
        "                    correct += 1\n",
        "                # If user has guessed all the letters\n",
        "                elif (Counter(letterGuessed) == Counter(word)): # Once the correct word is guessed fully, \n",
        "                                                                # the game ends, even if chances remain\n",
        "                    print(\"The word is: \", end=' ')\n",
        "                    print(word)\n",
        "                    flag = 1\n",
        "                    print('Congratulations, You won!')\n",
        "                    break # To break out of the for loop\n",
        "                    break # To break out of the while loop\n",
        "                else:\n",
        "                    print('_', end = ' ')\n",
        "  \n",
        "              \n",
        "  \n",
        "        # If user has used all of his chances\n",
        "        if chances <= 0 and (Counter(letterGuessed) != Counter(word)):\n",
        "            print()\n",
        "            print('You lost! Try again..')\n",
        "            print('The word was {}'.format(word))\n",
        "  \n",
        "    except KeyboardInterrupt:\n",
        "        print()\n",
        "        print('Bye! Try again.')\n",
        "        exit()"
      ]
    }
  ]
}